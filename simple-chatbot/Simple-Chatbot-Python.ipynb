{
 "cells": [
  {
   "cell_type": "markdown",
   "metadata": {},
   "source": [
    "Reference - https://medium.com/analytics-vidhya/building-a-simple-chatbot-in-python-using-nltk-7c8c8215ac6e"
   ]
  },
  {
   "cell_type": "code",
   "execution_count": 1,
   "metadata": {},
   "outputs": [],
   "source": [
    "import nltk\n",
    "import numpy as np\n",
    "import random\n",
    "import string\n",
    "import warnings\n",
    "warnings.filterwarnings(\"ignore\")"
   ]
  },
  {
   "cell_type": "code",
   "execution_count": 2,
   "metadata": {},
   "outputs": [],
   "source": [
    "#Reading the corpus input.\n",
    "file=open('corpus.txt','r',errors = 'ignore')\n",
    "corpus_text=file.read()\n"
   ]
  },
  {
   "cell_type": "code",
   "execution_count": 3,
   "metadata": {},
   "outputs": [],
   "source": [
    "#Initial Text Pre-Processing - case conversion, sentence tokenization, word tokenization.\n",
    "corpus_text=corpus_text.lower()\n",
    "sentence_tokens = nltk.sent_tokenize(corpus_text) \n",
    "word_tokens = nltk.word_tokenize(corpus_text)\n"
   ]
  },
  {
   "cell_type": "code",
   "execution_count": 4,
   "metadata": {},
   "outputs": [],
   "source": [
    "#Lemmatization\n",
    "lemma = nltk.stem.WordNetLemmatizer()\n",
    "def lemma_tokens(tokens):\n",
    "    return [lemma.lemmatize(token) for token in tokens]\n",
    "noise = dict((ord(k), None) for k in string.punctuation)\n",
    "def remove_noise(text):\n",
    "    return lemma_tokens(nltk.word_tokenize(text.lower().translate(noise)))"
   ]
  },
  {
   "cell_type": "code",
   "execution_count": 5,
   "metadata": {},
   "outputs": [],
   "source": [
    "GREETING_INPUTS = (\"hello\", \"hi\", \"greetings\", \"sup\", \"what's up\",\"hey\",)\n",
    "GREETING_RESPONSES = [\"Hi.\", \"Hey.\", \"*nods*\", \"Hi there!\", \"Hello\", \"Welcome. Hi.\"]\n",
    "def greeting(sentence):\n",
    " \n",
    "    for word in sentence.split():\n",
    "        if word.lower() in GREETING_INPUTS:\n",
    "            return random.choice(GREETING_RESPONSES)"
   ]
  },
  {
   "cell_type": "code",
   "execution_count": 6,
   "metadata": {},
   "outputs": [],
   "source": [
    "from sklearn.feature_extraction.text import TfidfVectorizer\n",
    "from sklearn.metrics.pairwise import cosine_similarity"
   ]
  },
  {
   "cell_type": "code",
   "execution_count": 7,
   "metadata": {},
   "outputs": [],
   "source": [
    "def response(user_response):\n",
    "    robo_response=''\n",
    "    sentence_tokens.append(user_response)\n",
    "    TfidfVec = TfidfVectorizer(tokenizer=remove_noise, stop_words='english')\n",
    "    tfidf = TfidfVec.fit_transform(sentence_tokens)\n",
    "    vals = cosine_similarity(tfidf[-1], tfidf)\n",
    "    idx=vals.argsort()[0][-2]\n",
    "    flat = vals.flatten()\n",
    "    flat.sort()\n",
    "    req_tfidf = flat[-2]\n",
    "    if(req_tfidf==0):\n",
    "        robo_response=robo_response+\"I am sorry! I don't understand you. Could you rephrase?\"\n",
    "        return robo_response\n",
    "    else:\n",
    "        robo_response = robo_response+sentence_tokens[idx]\n",
    "        return robo_response"
   ]
  },
  {
   "cell_type": "code",
   "execution_count": 9,
   "metadata": {},
   "outputs": [
    {
     "name": "stdout",
     "output_type": "stream",
     "text": [
      "RKV: My name is Rkv. I will answer your queries about Google. If you want to exit, type Bye!\n",
      "hi\n",
      "RKV: Welcome. Hi.\n",
      "----------------------------------------------------------------------------\n",
      "history\n",
      "RKV: \"our history in depth\".\n",
      "----------------------------------------------------------------------------\n",
      "type\n",
      "RKV: google's logo since 2015\n",
      "googleplex hq (cropped).jpg\n",
      "google's headquarters, the googleplex\n",
      "formerly\n",
      "google inc. (1998–2017)\n",
      "type\n",
      "subsidiary\n",
      "industry\t\n",
      "internet\n",
      "cloud computing\n",
      "computer software\n",
      "computer hardware\n",
      "founded\tseptember 4, 1998; 20 years ago in menlo park, california\n",
      "founders\t\n",
      "larry page\n",
      "sergey brin\n",
      "headquarters\t1600 amphitheatre parkway, mountain view, california, u.s.\n",
      "area served\n",
      "worldwide\n",
      "key people\n",
      "sundar pichai (ceo)\n",
      "ruth porat (cfo)\n",
      "products\tlist of google products\n",
      "number of employees\n",
      "98,771 (q4 2018)\n",
      "parent\talphabet inc. (2015–present)\n",
      "subsidiaries\tlist of subsidiaries\n",
      "website\tgoogle.com\n",
      "footnotes / references\n",
      "[1][2][3][4]\n",
      "google llc[5] is an american multinational technology company that specializes in internet-related services and products, which include online advertising technologies, search engine, cloud computing, software, and hardware.\n",
      "----------------------------------------------------------------------------\n",
      "logo\n",
      "RKV: [11]\n",
      "\n",
      "the original google logo was designed by sergey brin.\n",
      "----------------------------------------------------------------------------\n",
      "Sundar Pichai\n",
      "RKV: \"sundar pichai should resign as google's c.e.o\".\n",
      "----------------------------------------------------------------------------\n",
      "bye\n",
      "RKV: Bye! See you soon.\n"
     ]
    }
   ],
   "source": [
    "flag=True\n",
    "print(\"RKV: My name is Rkv. I will answer your queries about Google. If you want to exit, type Bye!\")\n",
    "while(flag==True):\n",
    "    user_response = input()\n",
    "    user_response=user_response.lower()\n",
    "    if(user_response!='bye'):\n",
    "        if(user_response=='thanks' or user_response=='thank you' ):\n",
    "            flag=False\n",
    "            #print(\"You: \",user_response)\n",
    "            print(\"RKV: You are welcome. See you again!\")\n",
    "            print(\"----------------------------------------------------------------------------\")\n",
    "        else:\n",
    "            if(greeting(user_response)!=None):\n",
    "                #print(\"You: \",user_response)\n",
    "                print(\"RKV: \"+greeting(user_response))\n",
    "                print(\"----------------------------------------------------------------------------\")\n",
    "            else:\n",
    "                #print(\"You: \",user_response)\n",
    "                print(\"RKV: \",end=\"\")\n",
    "                print(response(user_response))\n",
    "                print(\"----------------------------------------------------------------------------\")\n",
    "                sentence_tokens.remove(user_response)\n",
    "    else:\n",
    "        flag=False\n",
    "        print(\"RKV: Bye! See you soon.\")"
   ]
  },
  {
   "cell_type": "code",
   "execution_count": null,
   "metadata": {},
   "outputs": [],
   "source": []
  },
  {
   "cell_type": "code",
   "execution_count": null,
   "metadata": {},
   "outputs": [],
   "source": []
  }
 ],
 "metadata": {
  "kernelspec": {
   "display_name": "Python 3",
   "language": "python",
   "name": "python3"
  },
  "language_info": {
   "codemirror_mode": {
    "name": "ipython",
    "version": 3
   },
   "file_extension": ".py",
   "mimetype": "text/x-python",
   "name": "python",
   "nbconvert_exporter": "python",
   "pygments_lexer": "ipython3",
   "version": "3.6.4"
  }
 },
 "nbformat": 4,
 "nbformat_minor": 2
}
